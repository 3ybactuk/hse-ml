{
  "cells": [
    {
      "cell_type": "markdown",
      "metadata": {
        "pycharm": {
          "name": "#%% md\n"
        },
        "id": "OfywJtOF1s4Q"
      },
      "source": [
        "# Машинное обучение, ФКН ВШЭ\n",
        "\n",
        "## Практическое задание 3. Градиентный спуск своими руками\n",
        "\n",
        "### Общая информация\n",
        "Дата выдачи: **02.02.2024**\n",
        "\n",
        "Мягкий дедлайн: **28.02.24 23:59**\n",
        "\n",
        "Жесткий дедлайн: **09.03.24 23:59**"
      ]
    },
    {
      "cell_type": "markdown",
      "metadata": {
        "pycharm": {
          "name": "#%% md\n"
        },
        "id": "Z9cTNpyZ1s4V"
      },
      "source": [
        "### О задании\n",
        "\n",
        "В данном задании необходимо реализовать обучение линейной регрессии с помощью различных вариантов градиентного спуска.\n",
        "\n",
        "\n",
        "### Оценивание и штрафы\n",
        "Каждая из задач имеет определенную «стоимость» (указана в скобках около задачи). Максимально допустимая оценка за работу — 10 баллов + 2 балла бонус.\n",
        "\n",
        "Сдавать задание после указанного срока сдачи нельзя. При выставлении неполного балла за задание в связи с наличием ошибок на усмотрение проверяющего предусмотрена возможность исправить работу на указанных в ответном письме условиях.\n",
        "\n",
        "Задание выполняется самостоятельно. «Похожие» решения считаются плагиатом и все задействованные студенты (в том числе те, у кого списали) не могут получить за него больше 0 баллов (подробнее о плагиате см. на странице курса). Если вы нашли решение какого-то из заданий (или его часть) в открытом источнике, необходимо указать ссылку на этот источник в отдельном блоке в конце вашей работы (скорее всего вы будете не единственным, кто это нашел, поэтому чтобы исключить подозрение в плагиате, необходима ссылка на источник).\n",
        "\n",
        "Неэффективная реализация кода может негативно отразиться на оценке.\n",
        "Также оценка может быть снижена за плохо читаемый код и плохо считываемые диаграммы.\n",
        "\n",
        "Все ответы должны сопровождаться кодом или комментариями о том, как они были получены.\n",
        "\n",
        "\n",
        "### Формат сдачи\n",
        "Задания сдаются через систему Anytask. Инвайт можно найти на странице курса. Присылать необходимо ноутбук с выполненным заданием. Сам ноутбук называйте в формате homework-practice-03-gd-Username.ipynb, где Username — ваша фамилия.\n",
        "\n",
        "Для удобства проверки самостоятельно посчитайте свою максимальную оценку (исходя из набора решенных задач) и укажите ниже.\n",
        "\n",
        "**Оценка**: 10"
      ]
    },
    {
      "cell_type": "markdown",
      "metadata": {
        "pycharm": {
          "name": "#%% md\n"
        },
        "id": "gAYr8UFF1s4W"
      },
      "source": [
        "Напомним, что на лекциях и семинарах мы разбирали некоторые подходы к оптимизации функционалов по параметрам. В частности, был рассмотрен градиентный спуск и различные подходы к его реализации — полный градиентный спуск, стохастический градиентный спуск, метод импульса и другие. В качестве модели у нас будет выступать линейная регрессия.\n",
        "\n",
        "В этом домашнем задании вам предстоит реализовать 4 различных вариации градиентного спуска, написать свою реализацию линейной регресии, сравнить методы градиентного спуска между собой на реальных данных и ещё много чего веселого и интересного!"
      ]
    },
    {
      "cell_type": "markdown",
      "metadata": {
        "pycharm": {
          "name": "#%% md\n"
        },
        "id": "eBog4a5g1s4X"
      },
      "source": [
        "## Задание 1. Реализация градиентного спуска (3.5 балла)\n",
        "\n",
        "В этом задании вам предстоит написать собственные реализации различных подходов к градиентному спуску с опорой на подготовленные шаблоны в файле `descents.py`.\n",
        "\n",
        "**Все реализуемые методы должны быть векторизованы!**"
      ]
    },
    {
      "cell_type": "markdown",
      "metadata": {
        "pycharm": {
          "name": "#%% md\n"
        },
        "id": "c2lHn51q1s4X"
      },
      "source": [
        "### Лирическое-теоретическое отступление № 1\n",
        "\n",
        "Основное свойство антиградиента &ndash; он указывает в сторону наискорейшего убывания функции в данной точке. Соответственно, будет логично стартовать из некоторой точки, сдвинуться в сторону антиградиента,\n",
        "пересчитать антиградиент и снова сдвинуться в его сторону и т.д. Запишем это более формально.\n",
        "\n",
        "Пусть $w_0$ &ndash; начальный набор параметров (например, нулевой или сгенерированный из некоторого\n",
        "случайного распределения). Тогда ванильный градиентный спуск состоит в повторении следующих шагов до сходимости:\n",
        "\n",
        "$$\n",
        "    w_{k + 1} = w_{k} - \\eta_{k} \\nabla_{w} Q(w_{k}).\n",
        "$$"
      ]
    },
    {
      "cell_type": "markdown",
      "metadata": {
        "pycharm": {
          "name": "#%% md\n"
        },
        "id": "3mpRpD5V1s4Y"
      },
      "source": [
        "### Лирическое-теоретическое отступление № 2\n",
        "\n",
        "На семинаре про [матрично-векторное дифференцирование](https://github.com/esokolov/ml-course-hse/blob/master/2022-fall/seminars/sem03-vector-diff.pdf) вы должны были обсуждать дифференцирование функции потерь MSE в матричном виде.\n",
        "\n",
        "### Задание 1.0. Градиент MSE в матричном виде (0 баллов).\n",
        "\n",
        "Напомним, что функция потерь MSE записывается в матричном виде как:\n",
        "\n",
        "$$\n",
        "    Q(w) = \\dfrac{1}{\\ell} \\left( y - Xw \\right)^T \\left( y - Xw \\right)\n",
        "$$\n",
        "\n",
        "Выпишите ниже (подсмотрев в семинар или решив самостоятельно) градиент для функции потерь MSE в матричном виде."
      ]
    },
    {
      "cell_type": "markdown",
      "metadata": {
        "pycharm": {
          "name": "#%% md\n"
        },
        "id": "5gVsuZY41s4Y"
      },
      "source": [
        "$$ \\nabla Q(w) = (- \\dfrac{2}{\\ell} \\left( y - Xw \\right)^T X)^T = - \\dfrac{2}{\\ell} X^T ( y - Xw )$$"
      ]
    },
    {
      "cell_type": "markdown",
      "metadata": {
        "pycharm": {
          "name": "#%% md\n"
        },
        "id": "vkh553Jp1s4Z"
      },
      "source": [
        "### Задание 1.1. Родительский класс BaseDescent (0.5 балла).\n",
        "\n",
        "Реализуйте функции `calc_loss` (вычисление MSE для переданных $x$ и $y$) и `predict` (предсказание $y_{pred}$ для переданных $x$) в классе `BaseDescent`.\n",
        "\n",
        "Все вычисления должны быть векторизованы."
      ]
    },
    {
      "cell_type": "markdown",
      "metadata": {
        "pycharm": {
          "name": "#%% md\n"
        },
        "id": "XBhjxmww1s4a"
      },
      "source": [
        "### Задание 1.2. Полный градиентный спуск VanillaGradientDescent (0.5 балла).\n",
        "\n",
        "Реализуйте полный градиентный спуск заполнив пропуски в классе `VanillaGradientDescent` в файле `descents.py`. Для вычисления градиента используйте формулу выше. Шаг оптимизации:\n",
        "\n",
        "$$\n",
        "    w_{k + 1} = w_{k} - \\eta_{k} \\nabla_{w} Q(w_{k}).\n",
        "$$\n",
        "\n",
        "Здесь и далее функция `update_weights` должна возвращать разницу между $w_{k + 1}$ и $w_{k}$: $\\quad w_{k + 1} - w_{k} = -\\eta_{k} \\nabla_{w} Q(w_{k})$.\n",
        "\n",
        "Во всех методах градиентного спуска мы будем использовать следующую формулу для длины шага:\n",
        "\n",
        "$$\n",
        "    \\eta_{k} = \\lambda \\left(\\dfrac{s_0}{s_0 + k}\\right)^p\n",
        "$$\n",
        "\n",
        "На практике достаточно настроить параметр $\\lambda$, а остальным выставить параметры по умолчанию: $s_0 = 1, \\, p = 0.5.$"
      ]
    },
    {
      "cell_type": "markdown",
      "metadata": {
        "pycharm": {
          "name": "#%% md\n"
        },
        "id": "rCdfkcsw1s4b"
      },
      "source": [
        "### Лирическое-теоретическое отступление № 3\n",
        "\n",
        "Как правило, в задачах машинного обучения функционал $Q(w)$ представим в виде суммы $\\ell$ функций:\n",
        "\n",
        "$$\n",
        "    Q(w)\n",
        "    =\n",
        "    \\frac{1}{\\ell}\n",
        "    \\sum_{i = 1}^{\\ell}\n",
        "        q_i(w).\n",
        "$$\n",
        "\n",
        "В нашем домашнем задании отдельные функции $q_i(w)$ соответствуют ошибкам на отдельных объектах.\n",
        "\n",
        "Проблема метода градиентного спуска состоит в том, что на каждом шаге необходимо вычислять градиент всей суммы (будем его называть полным градиентом):\n",
        "\n",
        "$$\n",
        "    \\nabla_w Q(w)\n",
        "    =\n",
        "    \\frac{1}{\\ell}\n",
        "    \\sum_{i = 1}^{\\ell}\n",
        "        \\nabla_w q_i(w).\n",
        "$$\n",
        "\n",
        "Это может быть очень трудоёмко при больших размерах выборки. В то же время точное вычисление градиента может быть не так уж необходимо &ndash; как правило, мы делаем не очень большие шаги в сторону антиградиента, и наличие в нём неточностей не должно сильно сказаться на общей траектории.\n",
        "\n",
        "Оценить градиент суммы функций можно средним градиентов случайно взятого подмножества функций:\n",
        "\n",
        "$$\n",
        "    \\nabla_{w} Q(w_{k}) \\approx \\dfrac{1}{|B|}\\sum\\limits_{i \\in B}\\nabla_{w} q_{i}(w_{k}),\n",
        "$$\n",
        "где $B$ - это случайно выбранное подмножество индексов.\n",
        "\n",
        "В этом случае мы получим метод **стохастического градиентного спуска**."
      ]
    },
    {
      "cell_type": "markdown",
      "metadata": {
        "pycharm": {
          "name": "#%% md\n"
        },
        "id": "fouT4zsf1s4b"
      },
      "source": [
        "### Задание 1.3. Стохастический градиентный спуск StochasticDescent (0.5 балла).\n",
        "\n",
        "Реализуйте стохастический градиентный спуск заполнив пропуски в классе `StochasticDescent`. Для оценки градиента используйте формулу выше (среднее градиентов случайно выбранного батча объектов). Шаг оптимизации:\n",
        "\n",
        "$$\n",
        "    w_{k + 1} = w_{k} - \\eta_{k} \\dfrac{1}{|B|}\\sum\\limits_{i \\in B}\\nabla_{w} q_{i}(w_{k}).\n",
        "$$\n",
        "\n",
        "Размер батча будет являться гиперпараметром метода, семплируйте индексы для батча объектов с помощью `np.random.randint`."
      ]
    },
    {
      "cell_type": "markdown",
      "metadata": {
        "pycharm": {
          "name": "#%% md\n"
        },
        "id": "z_lCfxrn1s4b"
      },
      "source": [
        "### Лирическое-теоретическое отступление № 4\n",
        "\n",
        "Может оказаться, что направление антиградиента сильно меняется от шага к шагу. Например, если линии уровня функционала сильно вытянуты, то из-за ортогональности градиента линиям уровня он будет менять направление на почти противоположное на каждом шаге. Такие осцилляции будут вносить сильный шум в движение, и процесс оптимизации займёт много итераций. Чтобы избежать этого, можно усреднять векторы антиградиента с нескольких предыдущих шагов &ndash; в этом случае шум уменьшится, и такой средний вектор будет указывать в сторону общего направления движения. Введём для этого вектор инерции:\n",
        "\n",
        "\\begin{align}\n",
        "    &h_0 = 0, \\\\\n",
        "    &h_{k + 1} = \\alpha h_{k} + \\eta_k \\nabla_w Q(w_{k})\n",
        "\\end{align}\n",
        "\n",
        "Здесь $\\alpha$ &ndash; параметр метода, определяющей скорость затухания градиентов с предыдущих шагов. Разумеется, вместо вектора градиента может быть использована его аппроксимация. Чтобы сделать шаг градиентного спуска, просто сдвинем предыдущую точку на вектор инерции:\n",
        "\n",
        "$$\n",
        "    w_{k + 1} = w_{k} - h_{k + 1}.\n",
        "$$\n",
        "\n",
        "Заметим, что если по какой-то координате градиент постоянно меняет знак, то в результате усреднения градиентов в векторе инерции эта координата окажется близкой к нулю. Если же по координате знак градиента всегда одинаковый, то величина соответствующей координаты в векторе инерции будет большой, и мы будем делать большие шаги в соответствующем направлении."
      ]
    },
    {
      "cell_type": "markdown",
      "metadata": {
        "pycharm": {
          "name": "#%% md\n"
        },
        "id": "CeTE5h4R1s4c"
      },
      "source": [
        "### Задание 1.4 Метод Momentum MomentumDescent (0.5 балла).\n",
        "\n",
        "Реализуйте градиентный спуск с методом инерции заполнив пропуски в классе `MomentumDescent`. Шаг оптимизации:\n",
        "\n",
        "\\begin{align}\n",
        "    &h_0 = 0, \\\\\n",
        "    &h_{k + 1} = \\alpha h_{k} + \\eta_k \\nabla_w Q(w_{k}) \\\\\n",
        "    &w_{k + 1} = w_{k} - h_{k + 1}.\n",
        "\\end{align}\n",
        "\n",
        "$\\alpha$ будет являться гиперпараметром метода, но в данном домашнем задании мы зафиксируем её за вас $\\alpha = 0.9$."
      ]
    },
    {
      "cell_type": "markdown",
      "metadata": {
        "pycharm": {
          "name": "#%% md\n"
        },
        "id": "BqWWhomN1s4c"
      },
      "source": [
        "### Лирическое-теоретическое отступление № 5\n",
        "\n",
        "Градиентный спуск очень чувствителен к выбору длины шага. Если шаг большой, то есть риск, что мы будем перескакивать через точку минимума; если же шаг маленький, то для нахождения минимума потребуется много итераций. При этом нет способов заранее определить правильный размер шага &ndash; к тому же, схемы с постепенным уменьшением шага по мере итераций могут тоже плохо работать.\n",
        "\n",
        "В методе AdaGrad предлагается сделать свою длину шага для каждой компоненты вектора параметров. При этом шаг будет тем меньше, чем более длинные шаги мы делали на предыдущих итерациях:\n",
        "\n",
        "\\begin{align}\n",
        "    &G_{kj} = G_{k-1,j} + (\\nabla_w Q(w_{k - 1}))_j^2; \\\\\n",
        "    &w_{jk} = w_{j,k-1} - \\frac{\\eta_t}{\\sqrt{G_{kj}} + \\varepsilon} (\\nabla_w Q(w_{k - 1}))_j.\n",
        "\\end{align}\n",
        "\n",
        "Здесь $\\varepsilon$ небольшая константа, которая предотвращает деление на ноль.\n",
        "\n",
        "В данном методе можно зафксировать длину шага (например, $\\eta_k = 0.01$) и не подбирать её в процессе обучения. Отметим, что данный метод подходит для разреженных задач, в которых у каждого объекта большинство признаков равны нулю. Для признаков, у которых ненулевые значения встречаются редко, будут делаться большие шаги; если же какой-то признак часто является ненулевым, то шаги по нему будут небольшими.\n",
        "\n",
        "У метода AdaGrad есть большой недостаток: переменная $G_{kj}$ монотонно растёт, из-за чего шаги становятся всё медленнее и могут остановиться ещё до того, как достигнут минимум функционала. Проблема решается в методе RMSprop, где используется экспоненциальное затухание градиентов:\n",
        "\n",
        "$$\n",
        "    G_{kj} = \\alpha G_{k-1,j} + (1 - \\alpha) (\\nabla_w Q(w^{(k-1)}))_j^2.\n",
        "$$\n",
        "\n",
        "В этом случае размер шага по координате зависит в основном от того, насколько\n",
        "быстро мы двигались по ней на последних итерациях.\n",
        "\n",
        "Можно объединить идеи описанных выше методов: накапливать градиенты со всех прошлых шагов для\n",
        "избежания осцилляций и делать адаптивную длину шага по каждому параметру."
      ]
    },
    {
      "cell_type": "markdown",
      "metadata": {
        "pycharm": {
          "name": "#%% md\n"
        },
        "id": "iui6fXvF1s4c"
      },
      "source": [
        "### Задание 1.5. Метод Adam (Adaptive Moment Estimation) (1.5 балла).\n",
        "\n",
        "![](adam_meme.png)\n",
        "\n",
        "Реализуйте градиентный спуск с методом Adam заполнив пропуски в классе `Adam`. Шаг оптимизации:\n",
        "\n",
        "\\begin{align}\n",
        "    &m_0 = 0, \\quad v_0 = 0; \\\\ \\\\\n",
        "    &m_{k + 1} = \\beta_1 m_k + (1 - \\beta_1) \\nabla_w Q(w_{k}); \\\\ \\\\\n",
        "    &v_{k + 1} = \\beta_2 v_k + (1 - \\beta_2) \\left(\\nabla_w Q(w_{k})\\right)^2; \\\\ \\\\\n",
        "    &\\widehat{m}_{k} = \\dfrac{m_k}{1 - \\beta_1^{k}}, \\quad \\widehat{v}_{k} = \\dfrac{v_k}{1 - \\beta_2^{k}}; \\\\ \\\\\n",
        "    &w_{k + 1} = w_{k} - \\dfrac{\\eta_k}{\\sqrt{\\widehat{v}_{k + 1}} + \\varepsilon} \\widehat{m}_{k + 1}.\n",
        "\\end{align}\n",
        "\n",
        "$\\beta_1 = 0.9, \\beta_2 = 0.999$ и $\\varepsilon = 10^{-8}$ будут зафиксированы за вас."
      ]
    },
    {
      "cell_type": "markdown",
      "metadata": {
        "pycharm": {
          "name": "#%% md\n"
        },
        "id": "iy--ovKf1s4c"
      },
      "source": [
        "## Задание 2. Реализация линейной регресии (0.5 балла)\n",
        "\n",
        "В этом задании вам предстоит написать свою реализацию линейной регресии, обучаемой с использованием градиентного спуска, с опорой на подготовленные шаблоны в файле `linear_regression.py` - **LinearRegression**. По сути линейная регрессия будет оберткой, которая запускает обучение\n",
        "\n",
        "Необходимо соблюдать следующие условия:\n",
        "\n",
        "* Все вычисления должны быть векторизованы;\n",
        "* Циклы средствами python допускаются только для итераций градиентного спуска;\n",
        "* В качестве критерия останова необходимо использовать (одновременно):\n",
        "    * Квадрат евклидовой нормы разности весов на двух соседних итерациях меньше `tolerance`;\n",
        "    * Разность весов содержит наны;\n",
        "    * Достижение максимального числа итераций `max_iter`.\n",
        "* Будем считать, что все данные, которые поступают на вход имеют столбец единичек последним столбцом;\n",
        "* Чтобы проследить за сходимостью оптимизационного процесса будем использовать `loss_history`, в нём будем хранить значения функции потерь до каждого шага, начиная с нулевого (до первого шага по антиградиенту) и значение функции потерь после оптимизации."
      ]
    },
    {
      "cell_type": "markdown",
      "metadata": {
        "pycharm": {
          "name": "#%% md\n"
        },
        "id": "hoPIo6Ck1s4c"
      },
      "source": [
        "## Задание 3. Проверка кода (0 баллов)"
      ]
    },
    {
      "cell_type": "code",
      "execution_count": 3,
      "metadata": {
        "pycharm": {
          "name": "#%%\n"
        },
        "colab": {
          "base_uri": "https://localhost:8080/"
        },
        "id": "p3n3sbpg1s4d",
        "outputId": "8210def1-cf90-49f6-bc52-0cd6089e06e4"
      },
      "outputs": [
        {
          "output_type": "stream",
          "name": "stdout",
          "text": [
            "The autoreload extension is already loaded. To reload it, use:\n",
            "  %reload_ext autoreload\n"
          ]
        }
      ],
      "source": [
        "%load_ext autoreload"
      ]
    },
    {
      "cell_type": "code",
      "execution_count": 4,
      "metadata": {
        "pycharm": {
          "name": "#%%\n"
        },
        "id": "YZw5DxI01s4e"
      },
      "outputs": [],
      "source": [
        "%autoreload 2\n",
        "\n",
        "import numpy as np\n",
        "\n",
        "from descents import get_descent\n",
        "from linear_regression import LinearRegression"
      ]
    },
    {
      "cell_type": "code",
      "execution_count": 5,
      "metadata": {
        "pycharm": {
          "name": "#%%\n"
        },
        "id": "hD9Kufbn1s4e"
      },
      "outputs": [],
      "source": [
        "num_objects = 100\n",
        "dimension = 5\n",
        "\n",
        "x = np.random.rand(num_objects, dimension)\n",
        "y = np.random.rand(num_objects)"
      ]
    },
    {
      "cell_type": "code",
      "execution_count": 6,
      "metadata": {
        "pycharm": {
          "name": "#%%\n"
        },
        "id": "HArlklij1s4e"
      },
      "outputs": [],
      "source": [
        "# Descents\n",
        "\n",
        "descent_config = {\n",
        "    'descent_name': 'some name that we will replace in the future',\n",
        "    'kwargs': {\n",
        "        'dimension': dimension\n",
        "    }\n",
        "}\n",
        "\n",
        "for descent_name in ['full', 'stochastic', 'momentum', 'adam']:\n",
        "    descent_config['descent_name'] = descent_name\n",
        "    descent = get_descent(descent_config)\n",
        "\n",
        "    diff = descent.step(x, y)\n",
        "    gradient = descent.calc_gradient(x, y)\n",
        "    predictions = descent.predict(x)\n",
        "\n",
        "    assert gradient.shape[0] == dimension, f'Gradient failed for descent {descent_name}'\n",
        "    assert diff.shape[0] == dimension, f'Weights failed for descent {descent_name}'\n",
        "    assert predictions.shape == y.shape, f'Prediction failed for descent {descent_name}'"
      ]
    },
    {
      "cell_type": "code",
      "execution_count": 7,
      "metadata": {
        "pycharm": {
          "name": "#%%\n"
        },
        "id": "hUpIZQqL1s4e"
      },
      "outputs": [],
      "source": [
        "# LinearRegression\n",
        "\n",
        "max_iter = 10\n",
        "tolerance = 0\n",
        "\n",
        "descent_config = {\n",
        "    'descent_name': 'stochastic',\n",
        "    'kwargs': {\n",
        "        'dimension': dimension,\n",
        "        'batch_size': 10\n",
        "    }\n",
        "}\n",
        "\n",
        "regression = LinearRegression(\n",
        "    descent_config=descent_config,\n",
        "    tolerance=tolerance,\n",
        "    max_iter=max_iter\n",
        ")\n",
        "\n",
        "regression.fit(x, y)\n",
        "\n",
        "assert len(regression.loss_history) == max_iter + 1, 'Loss history failed'"
      ]
    },
    {
      "cell_type": "markdown",
      "metadata": {
        "pycharm": {
          "name": "#%% md\n"
        },
        "id": "DupTcX3k1s4f"
      },
      "source": [
        "Если ваше решение прошло все тесты локально, то теперь пришло время протестировать его в [Яндекс Контесте](https://contest.yandex.ru/contest/54610/).\n",
        "\n",
        "Для каждой задачи из контеста вставьте ссылку на успешную посылку:\n",
        "\n",
        "* **VanillaGradientDescent**: https://contest.yandex.ru/contest/54610/run-report/108355433/\n",
        "\n",
        "\n",
        "* **StochasticDescent**: https://contest.yandex.ru/contest/54610/run-report/108355300/\n",
        "\n",
        "\n",
        "* **MomentumDescent**: https://contest.yandex.ru/contest/54610/run-report/108355510/\n",
        "\n",
        "\n",
        "* **Adam**: https://contest.yandex.ru/contest/54610/run-report/108355543/\n",
        "\n",
        "\n",
        "* **LinearRegression**: https://contest.yandex.ru/contest/54610/run-report/108354339/"
      ]
    },
    {
      "cell_type": "markdown",
      "metadata": {
        "pycharm": {
          "name": "#%% md\n"
        },
        "id": "2Qrd8KGI1s4f"
      },
      "source": [
        "## Задание 4. Работа с данными (1 балл)\n",
        "\n",
        "Мы будем использовать датасет объявлений по продаже машин на немецком Ebay. В задаче предсказания целевой переменной для нас будет являться цена."
      ]
    },
    {
      "cell_type": "markdown",
      "metadata": {
        "pycharm": {
          "name": "#%% md\n"
        },
        "id": "4K3fl7SA1s4f"
      },
      "source": [
        "* Постройте график распределения целевой переменной в данных, подумайте, нужно ли заменить её на логарифм. Присутствуют ли выбросы в данных с аномальной ценой? Если да, то удалите их из данных.\n",
        "\n",
        "* Проведите исследование данных:\n",
        "    * Проанализируйте тип столбцов, постройте графики зависимости целевой переменной от признака, распределения значений признака;\n",
        "    * Подумайте, какие признаки могут быть полезными на основе этих графиков, обработайте выбросы;\n",
        "    * Подумайте, какие трансформации признаков из известных вам будет уместно применить;\n",
        "    * Разделите полезные признаки на категориальные, вещественные и те, которые не надо предобрабатывать.\n",
        "* Разделите данные на обучающую, валидационную и тестовую выборки в отношении 8:1:1."
      ]
    },
    {
      "cell_type": "code",
      "execution_count": 8,
      "metadata": {
        "pycharm": {
          "name": "#%%\n"
        },
        "id": "WIHCELGQ1s4f"
      },
      "outputs": [],
      "source": [
        "import numpy as np\n",
        "import pandas as pd\n",
        "\n",
        "import matplotlib.pyplot as plt\n",
        "import seaborn as sns\n",
        "\n",
        "from descents import get_descent\n",
        "from linear_regression import LinearRegression\n",
        "\n",
        "sns.set(style='darkgrid')"
      ]
    },
    {
      "cell_type": "code",
      "execution_count": 9,
      "metadata": {
        "pycharm": {
          "name": "#%%\n"
        },
        "id": "JQv4m0_l1s4f"
      },
      "outputs": [],
      "source": [
        "data = pd.read_csv('autos.csv')"
      ]
    },
    {
      "cell_type": "code",
      "execution_count": 10,
      "metadata": {
        "pycharm": {
          "name": "#%%\n"
        },
        "colab": {
          "base_uri": "https://localhost:8080/",
          "height": 206
        },
        "id": "yKOo2v9J1s4f",
        "outputId": "8679ab4e-666b-4ed4-c291-e7e264828563"
      },
      "outputs": [
        {
          "output_type": "execute_result",
          "data": {
            "text/plain": [
              "        brand    model vehicleType  gearbox fuelType notRepairedDamage  \\\n",
              "0  volkswagen     golf  kleinwagen  manuell   benzin              nein   \n",
              "1       skoda    fabia  kleinwagen  manuell   diesel              nein   \n",
              "2         bmw      3er   limousine  manuell   benzin                ja   \n",
              "3     peugeot  2_reihe      cabrio  manuell   benzin              nein   \n",
              "4       mazda  3_reihe   limousine  manuell   benzin              nein   \n",
              "\n",
              "   powerPS  kilometer  autoAgeMonths  price  \n",
              "0       75     150000            177   1500  \n",
              "1       69      90000             93   3600  \n",
              "2      102     150000            246    650  \n",
              "3      109     150000            140   2200  \n",
              "4      105     150000            136   2000  "
            ],
            "text/html": [
              "\n",
              "  <div id=\"df-371693b3-1d6b-42f7-b5e3-04523eb3c7f6\" class=\"colab-df-container\">\n",
              "    <div>\n",
              "<style scoped>\n",
              "    .dataframe tbody tr th:only-of-type {\n",
              "        vertical-align: middle;\n",
              "    }\n",
              "\n",
              "    .dataframe tbody tr th {\n",
              "        vertical-align: top;\n",
              "    }\n",
              "\n",
              "    .dataframe thead th {\n",
              "        text-align: right;\n",
              "    }\n",
              "</style>\n",
              "<table border=\"1\" class=\"dataframe\">\n",
              "  <thead>\n",
              "    <tr style=\"text-align: right;\">\n",
              "      <th></th>\n",
              "      <th>brand</th>\n",
              "      <th>model</th>\n",
              "      <th>vehicleType</th>\n",
              "      <th>gearbox</th>\n",
              "      <th>fuelType</th>\n",
              "      <th>notRepairedDamage</th>\n",
              "      <th>powerPS</th>\n",
              "      <th>kilometer</th>\n",
              "      <th>autoAgeMonths</th>\n",
              "      <th>price</th>\n",
              "    </tr>\n",
              "  </thead>\n",
              "  <tbody>\n",
              "    <tr>\n",
              "      <th>0</th>\n",
              "      <td>volkswagen</td>\n",
              "      <td>golf</td>\n",
              "      <td>kleinwagen</td>\n",
              "      <td>manuell</td>\n",
              "      <td>benzin</td>\n",
              "      <td>nein</td>\n",
              "      <td>75</td>\n",
              "      <td>150000</td>\n",
              "      <td>177</td>\n",
              "      <td>1500</td>\n",
              "    </tr>\n",
              "    <tr>\n",
              "      <th>1</th>\n",
              "      <td>skoda</td>\n",
              "      <td>fabia</td>\n",
              "      <td>kleinwagen</td>\n",
              "      <td>manuell</td>\n",
              "      <td>diesel</td>\n",
              "      <td>nein</td>\n",
              "      <td>69</td>\n",
              "      <td>90000</td>\n",
              "      <td>93</td>\n",
              "      <td>3600</td>\n",
              "    </tr>\n",
              "    <tr>\n",
              "      <th>2</th>\n",
              "      <td>bmw</td>\n",
              "      <td>3er</td>\n",
              "      <td>limousine</td>\n",
              "      <td>manuell</td>\n",
              "      <td>benzin</td>\n",
              "      <td>ja</td>\n",
              "      <td>102</td>\n",
              "      <td>150000</td>\n",
              "      <td>246</td>\n",
              "      <td>650</td>\n",
              "    </tr>\n",
              "    <tr>\n",
              "      <th>3</th>\n",
              "      <td>peugeot</td>\n",
              "      <td>2_reihe</td>\n",
              "      <td>cabrio</td>\n",
              "      <td>manuell</td>\n",
              "      <td>benzin</td>\n",
              "      <td>nein</td>\n",
              "      <td>109</td>\n",
              "      <td>150000</td>\n",
              "      <td>140</td>\n",
              "      <td>2200</td>\n",
              "    </tr>\n",
              "    <tr>\n",
              "      <th>4</th>\n",
              "      <td>mazda</td>\n",
              "      <td>3_reihe</td>\n",
              "      <td>limousine</td>\n",
              "      <td>manuell</td>\n",
              "      <td>benzin</td>\n",
              "      <td>nein</td>\n",
              "      <td>105</td>\n",
              "      <td>150000</td>\n",
              "      <td>136</td>\n",
              "      <td>2000</td>\n",
              "    </tr>\n",
              "  </tbody>\n",
              "</table>\n",
              "</div>\n",
              "    <div class=\"colab-df-buttons\">\n",
              "\n",
              "  <div class=\"colab-df-container\">\n",
              "    <button class=\"colab-df-convert\" onclick=\"convertToInteractive('df-371693b3-1d6b-42f7-b5e3-04523eb3c7f6')\"\n",
              "            title=\"Convert this dataframe to an interactive table.\"\n",
              "            style=\"display:none;\">\n",
              "\n",
              "  <svg xmlns=\"http://www.w3.org/2000/svg\" height=\"24px\" viewBox=\"0 -960 960 960\">\n",
              "    <path d=\"M120-120v-720h720v720H120Zm60-500h600v-160H180v160Zm220 220h160v-160H400v160Zm0 220h160v-160H400v160ZM180-400h160v-160H180v160Zm440 0h160v-160H620v160ZM180-180h160v-160H180v160Zm440 0h160v-160H620v160Z\"/>\n",
              "  </svg>\n",
              "    </button>\n",
              "\n",
              "  <style>\n",
              "    .colab-df-container {\n",
              "      display:flex;\n",
              "      gap: 12px;\n",
              "    }\n",
              "\n",
              "    .colab-df-convert {\n",
              "      background-color: #E8F0FE;\n",
              "      border: none;\n",
              "      border-radius: 50%;\n",
              "      cursor: pointer;\n",
              "      display: none;\n",
              "      fill: #1967D2;\n",
              "      height: 32px;\n",
              "      padding: 0 0 0 0;\n",
              "      width: 32px;\n",
              "    }\n",
              "\n",
              "    .colab-df-convert:hover {\n",
              "      background-color: #E2EBFA;\n",
              "      box-shadow: 0px 1px 2px rgba(60, 64, 67, 0.3), 0px 1px 3px 1px rgba(60, 64, 67, 0.15);\n",
              "      fill: #174EA6;\n",
              "    }\n",
              "\n",
              "    .colab-df-buttons div {\n",
              "      margin-bottom: 4px;\n",
              "    }\n",
              "\n",
              "    [theme=dark] .colab-df-convert {\n",
              "      background-color: #3B4455;\n",
              "      fill: #D2E3FC;\n",
              "    }\n",
              "\n",
              "    [theme=dark] .colab-df-convert:hover {\n",
              "      background-color: #434B5C;\n",
              "      box-shadow: 0px 1px 3px 1px rgba(0, 0, 0, 0.15);\n",
              "      filter: drop-shadow(0px 1px 2px rgba(0, 0, 0, 0.3));\n",
              "      fill: #FFFFFF;\n",
              "    }\n",
              "  </style>\n",
              "\n",
              "    <script>\n",
              "      const buttonEl =\n",
              "        document.querySelector('#df-371693b3-1d6b-42f7-b5e3-04523eb3c7f6 button.colab-df-convert');\n",
              "      buttonEl.style.display =\n",
              "        google.colab.kernel.accessAllowed ? 'block' : 'none';\n",
              "\n",
              "      async function convertToInteractive(key) {\n",
              "        const element = document.querySelector('#df-371693b3-1d6b-42f7-b5e3-04523eb3c7f6');\n",
              "        const dataTable =\n",
              "          await google.colab.kernel.invokeFunction('convertToInteractive',\n",
              "                                                    [key], {});\n",
              "        if (!dataTable) return;\n",
              "\n",
              "        const docLinkHtml = 'Like what you see? Visit the ' +\n",
              "          '<a target=\"_blank\" href=https://colab.research.google.com/notebooks/data_table.ipynb>data table notebook</a>'\n",
              "          + ' to learn more about interactive tables.';\n",
              "        element.innerHTML = '';\n",
              "        dataTable['output_type'] = 'display_data';\n",
              "        await google.colab.output.renderOutput(dataTable, element);\n",
              "        const docLink = document.createElement('div');\n",
              "        docLink.innerHTML = docLinkHtml;\n",
              "        element.appendChild(docLink);\n",
              "      }\n",
              "    </script>\n",
              "  </div>\n",
              "\n",
              "\n",
              "<div id=\"df-97245ae6-2410-4569-9585-26a8c76a0f75\">\n",
              "  <button class=\"colab-df-quickchart\" onclick=\"quickchart('df-97245ae6-2410-4569-9585-26a8c76a0f75')\"\n",
              "            title=\"Suggest charts\"\n",
              "            style=\"display:none;\">\n",
              "\n",
              "<svg xmlns=\"http://www.w3.org/2000/svg\" height=\"24px\"viewBox=\"0 0 24 24\"\n",
              "     width=\"24px\">\n",
              "    <g>\n",
              "        <path d=\"M19 3H5c-1.1 0-2 .9-2 2v14c0 1.1.9 2 2 2h14c1.1 0 2-.9 2-2V5c0-1.1-.9-2-2-2zM9 17H7v-7h2v7zm4 0h-2V7h2v10zm4 0h-2v-4h2v4z\"/>\n",
              "    </g>\n",
              "</svg>\n",
              "  </button>\n",
              "\n",
              "<style>\n",
              "  .colab-df-quickchart {\n",
              "      --bg-color: #E8F0FE;\n",
              "      --fill-color: #1967D2;\n",
              "      --hover-bg-color: #E2EBFA;\n",
              "      --hover-fill-color: #174EA6;\n",
              "      --disabled-fill-color: #AAA;\n",
              "      --disabled-bg-color: #DDD;\n",
              "  }\n",
              "\n",
              "  [theme=dark] .colab-df-quickchart {\n",
              "      --bg-color: #3B4455;\n",
              "      --fill-color: #D2E3FC;\n",
              "      --hover-bg-color: #434B5C;\n",
              "      --hover-fill-color: #FFFFFF;\n",
              "      --disabled-bg-color: #3B4455;\n",
              "      --disabled-fill-color: #666;\n",
              "  }\n",
              "\n",
              "  .colab-df-quickchart {\n",
              "    background-color: var(--bg-color);\n",
              "    border: none;\n",
              "    border-radius: 50%;\n",
              "    cursor: pointer;\n",
              "    display: none;\n",
              "    fill: var(--fill-color);\n",
              "    height: 32px;\n",
              "    padding: 0;\n",
              "    width: 32px;\n",
              "  }\n",
              "\n",
              "  .colab-df-quickchart:hover {\n",
              "    background-color: var(--hover-bg-color);\n",
              "    box-shadow: 0 1px 2px rgba(60, 64, 67, 0.3), 0 1px 3px 1px rgba(60, 64, 67, 0.15);\n",
              "    fill: var(--button-hover-fill-color);\n",
              "  }\n",
              "\n",
              "  .colab-df-quickchart-complete:disabled,\n",
              "  .colab-df-quickchart-complete:disabled:hover {\n",
              "    background-color: var(--disabled-bg-color);\n",
              "    fill: var(--disabled-fill-color);\n",
              "    box-shadow: none;\n",
              "  }\n",
              "\n",
              "  .colab-df-spinner {\n",
              "    border: 2px solid var(--fill-color);\n",
              "    border-color: transparent;\n",
              "    border-bottom-color: var(--fill-color);\n",
              "    animation:\n",
              "      spin 1s steps(1) infinite;\n",
              "  }\n",
              "\n",
              "  @keyframes spin {\n",
              "    0% {\n",
              "      border-color: transparent;\n",
              "      border-bottom-color: var(--fill-color);\n",
              "      border-left-color: var(--fill-color);\n",
              "    }\n",
              "    20% {\n",
              "      border-color: transparent;\n",
              "      border-left-color: var(--fill-color);\n",
              "      border-top-color: var(--fill-color);\n",
              "    }\n",
              "    30% {\n",
              "      border-color: transparent;\n",
              "      border-left-color: var(--fill-color);\n",
              "      border-top-color: var(--fill-color);\n",
              "      border-right-color: var(--fill-color);\n",
              "    }\n",
              "    40% {\n",
              "      border-color: transparent;\n",
              "      border-right-color: var(--fill-color);\n",
              "      border-top-color: var(--fill-color);\n",
              "    }\n",
              "    60% {\n",
              "      border-color: transparent;\n",
              "      border-right-color: var(--fill-color);\n",
              "    }\n",
              "    80% {\n",
              "      border-color: transparent;\n",
              "      border-right-color: var(--fill-color);\n",
              "      border-bottom-color: var(--fill-color);\n",
              "    }\n",
              "    90% {\n",
              "      border-color: transparent;\n",
              "      border-bottom-color: var(--fill-color);\n",
              "    }\n",
              "  }\n",
              "</style>\n",
              "\n",
              "  <script>\n",
              "    async function quickchart(key) {\n",
              "      const quickchartButtonEl =\n",
              "        document.querySelector('#' + key + ' button');\n",
              "      quickchartButtonEl.disabled = true;  // To prevent multiple clicks.\n",
              "      quickchartButtonEl.classList.add('colab-df-spinner');\n",
              "      try {\n",
              "        const charts = await google.colab.kernel.invokeFunction(\n",
              "            'suggestCharts', [key], {});\n",
              "      } catch (error) {\n",
              "        console.error('Error during call to suggestCharts:', error);\n",
              "      }\n",
              "      quickchartButtonEl.classList.remove('colab-df-spinner');\n",
              "      quickchartButtonEl.classList.add('colab-df-quickchart-complete');\n",
              "    }\n",
              "    (() => {\n",
              "      let quickchartButtonEl =\n",
              "        document.querySelector('#df-97245ae6-2410-4569-9585-26a8c76a0f75 button');\n",
              "      quickchartButtonEl.style.display =\n",
              "        google.colab.kernel.accessAllowed ? 'block' : 'none';\n",
              "    })();\n",
              "  </script>\n",
              "</div>\n",
              "    </div>\n",
              "  </div>\n"
            ],
            "application/vnd.google.colaboratory.intrinsic+json": {
              "type": "dataframe",
              "variable_name": "data"
            }
          },
          "metadata": {},
          "execution_count": 10
        }
      ],
      "source": [
        "data.head()"
      ]
    },
    {
      "cell_type": "code",
      "source": [
        "data['log_price'] = np.log1p(data['price'].values)\n",
        "data.head()"
      ],
      "metadata": {
        "colab": {
          "base_uri": "https://localhost:8080/",
          "height": 206
        },
        "id": "P8aZvOwfSpSO",
        "outputId": "f49d850d-d975-4266-a05e-c0b3f3d05bd8"
      },
      "execution_count": 11,
      "outputs": [
        {
          "output_type": "execute_result",
          "data": {
            "text/plain": [
              "        brand    model vehicleType  gearbox fuelType notRepairedDamage  \\\n",
              "0  volkswagen     golf  kleinwagen  manuell   benzin              nein   \n",
              "1       skoda    fabia  kleinwagen  manuell   diesel              nein   \n",
              "2         bmw      3er   limousine  manuell   benzin                ja   \n",
              "3     peugeot  2_reihe      cabrio  manuell   benzin              nein   \n",
              "4       mazda  3_reihe   limousine  manuell   benzin              nein   \n",
              "\n",
              "   powerPS  kilometer  autoAgeMonths  price  log_price  \n",
              "0       75     150000            177   1500   7.313887  \n",
              "1       69      90000             93   3600   8.188967  \n",
              "2      102     150000            246    650   6.478510  \n",
              "3      109     150000            140   2200   7.696667  \n",
              "4      105     150000            136   2000   7.601402  "
            ],
            "text/html": [
              "\n",
              "  <div id=\"df-4823f473-540d-4955-b87f-b831ff83ce9a\" class=\"colab-df-container\">\n",
              "    <div>\n",
              "<style scoped>\n",
              "    .dataframe tbody tr th:only-of-type {\n",
              "        vertical-align: middle;\n",
              "    }\n",
              "\n",
              "    .dataframe tbody tr th {\n",
              "        vertical-align: top;\n",
              "    }\n",
              "\n",
              "    .dataframe thead th {\n",
              "        text-align: right;\n",
              "    }\n",
              "</style>\n",
              "<table border=\"1\" class=\"dataframe\">\n",
              "  <thead>\n",
              "    <tr style=\"text-align: right;\">\n",
              "      <th></th>\n",
              "      <th>brand</th>\n",
              "      <th>model</th>\n",
              "      <th>vehicleType</th>\n",
              "      <th>gearbox</th>\n",
              "      <th>fuelType</th>\n",
              "      <th>notRepairedDamage</th>\n",
              "      <th>powerPS</th>\n",
              "      <th>kilometer</th>\n",
              "      <th>autoAgeMonths</th>\n",
              "      <th>price</th>\n",
              "      <th>log_price</th>\n",
              "    </tr>\n",
              "  </thead>\n",
              "  <tbody>\n",
              "    <tr>\n",
              "      <th>0</th>\n",
              "      <td>volkswagen</td>\n",
              "      <td>golf</td>\n",
              "      <td>kleinwagen</td>\n",
              "      <td>manuell</td>\n",
              "      <td>benzin</td>\n",
              "      <td>nein</td>\n",
              "      <td>75</td>\n",
              "      <td>150000</td>\n",
              "      <td>177</td>\n",
              "      <td>1500</td>\n",
              "      <td>7.313887</td>\n",
              "    </tr>\n",
              "    <tr>\n",
              "      <th>1</th>\n",
              "      <td>skoda</td>\n",
              "      <td>fabia</td>\n",
              "      <td>kleinwagen</td>\n",
              "      <td>manuell</td>\n",
              "      <td>diesel</td>\n",
              "      <td>nein</td>\n",
              "      <td>69</td>\n",
              "      <td>90000</td>\n",
              "      <td>93</td>\n",
              "      <td>3600</td>\n",
              "      <td>8.188967</td>\n",
              "    </tr>\n",
              "    <tr>\n",
              "      <th>2</th>\n",
              "      <td>bmw</td>\n",
              "      <td>3er</td>\n",
              "      <td>limousine</td>\n",
              "      <td>manuell</td>\n",
              "      <td>benzin</td>\n",
              "      <td>ja</td>\n",
              "      <td>102</td>\n",
              "      <td>150000</td>\n",
              "      <td>246</td>\n",
              "      <td>650</td>\n",
              "      <td>6.478510</td>\n",
              "    </tr>\n",
              "    <tr>\n",
              "      <th>3</th>\n",
              "      <td>peugeot</td>\n",
              "      <td>2_reihe</td>\n",
              "      <td>cabrio</td>\n",
              "      <td>manuell</td>\n",
              "      <td>benzin</td>\n",
              "      <td>nein</td>\n",
              "      <td>109</td>\n",
              "      <td>150000</td>\n",
              "      <td>140</td>\n",
              "      <td>2200</td>\n",
              "      <td>7.696667</td>\n",
              "    </tr>\n",
              "    <tr>\n",
              "      <th>4</th>\n",
              "      <td>mazda</td>\n",
              "      <td>3_reihe</td>\n",
              "      <td>limousine</td>\n",
              "      <td>manuell</td>\n",
              "      <td>benzin</td>\n",
              "      <td>nein</td>\n",
              "      <td>105</td>\n",
              "      <td>150000</td>\n",
              "      <td>136</td>\n",
              "      <td>2000</td>\n",
              "      <td>7.601402</td>\n",
              "    </tr>\n",
              "  </tbody>\n",
              "</table>\n",
              "</div>\n",
              "    <div class=\"colab-df-buttons\">\n",
              "\n",
              "  <div class=\"colab-df-container\">\n",
              "    <button class=\"colab-df-convert\" onclick=\"convertToInteractive('df-4823f473-540d-4955-b87f-b831ff83ce9a')\"\n",
              "            title=\"Convert this dataframe to an interactive table.\"\n",
              "            style=\"display:none;\">\n",
              "\n",
              "  <svg xmlns=\"http://www.w3.org/2000/svg\" height=\"24px\" viewBox=\"0 -960 960 960\">\n",
              "    <path d=\"M120-120v-720h720v720H120Zm60-500h600v-160H180v160Zm220 220h160v-160H400v160Zm0 220h160v-160H400v160ZM180-400h160v-160H180v160Zm440 0h160v-160H620v160ZM180-180h160v-160H180v160Zm440 0h160v-160H620v160Z\"/>\n",
              "  </svg>\n",
              "    </button>\n",
              "\n",
              "  <style>\n",
              "    .colab-df-container {\n",
              "      display:flex;\n",
              "      gap: 12px;\n",
              "    }\n",
              "\n",
              "    .colab-df-convert {\n",
              "      background-color: #E8F0FE;\n",
              "      border: none;\n",
              "      border-radius: 50%;\n",
              "      cursor: pointer;\n",
              "      display: none;\n",
              "      fill: #1967D2;\n",
              "      height: 32px;\n",
              "      padding: 0 0 0 0;\n",
              "      width: 32px;\n",
              "    }\n",
              "\n",
              "    .colab-df-convert:hover {\n",
              "      background-color: #E2EBFA;\n",
              "      box-shadow: 0px 1px 2px rgba(60, 64, 67, 0.3), 0px 1px 3px 1px rgba(60, 64, 67, 0.15);\n",
              "      fill: #174EA6;\n",
              "    }\n",
              "\n",
              "    .colab-df-buttons div {\n",
              "      margin-bottom: 4px;\n",
              "    }\n",
              "\n",
              "    [theme=dark] .colab-df-convert {\n",
              "      background-color: #3B4455;\n",
              "      fill: #D2E3FC;\n",
              "    }\n",
              "\n",
              "    [theme=dark] .colab-df-convert:hover {\n",
              "      background-color: #434B5C;\n",
              "      box-shadow: 0px 1px 3px 1px rgba(0, 0, 0, 0.15);\n",
              "      filter: drop-shadow(0px 1px 2px rgba(0, 0, 0, 0.3));\n",
              "      fill: #FFFFFF;\n",
              "    }\n",
              "  </style>\n",
              "\n",
              "    <script>\n",
              "      const buttonEl =\n",
              "        document.querySelector('#df-4823f473-540d-4955-b87f-b831ff83ce9a button.colab-df-convert');\n",
              "      buttonEl.style.display =\n",
              "        google.colab.kernel.accessAllowed ? 'block' : 'none';\n",
              "\n",
              "      async function convertToInteractive(key) {\n",
              "        const element = document.querySelector('#df-4823f473-540d-4955-b87f-b831ff83ce9a');\n",
              "        const dataTable =\n",
              "          await google.colab.kernel.invokeFunction('convertToInteractive',\n",
              "                                                    [key], {});\n",
              "        if (!dataTable) return;\n",
              "\n",
              "        const docLinkHtml = 'Like what you see? Visit the ' +\n",
              "          '<a target=\"_blank\" href=https://colab.research.google.com/notebooks/data_table.ipynb>data table notebook</a>'\n",
              "          + ' to learn more about interactive tables.';\n",
              "        element.innerHTML = '';\n",
              "        dataTable['output_type'] = 'display_data';\n",
              "        await google.colab.output.renderOutput(dataTable, element);\n",
              "        const docLink = document.createElement('div');\n",
              "        docLink.innerHTML = docLinkHtml;\n",
              "        element.appendChild(docLink);\n",
              "      }\n",
              "    </script>\n",
              "  </div>\n",
              "\n",
              "\n",
              "<div id=\"df-11cb290c-90a3-4a2c-bbc4-c469520bb061\">\n",
              "  <button class=\"colab-df-quickchart\" onclick=\"quickchart('df-11cb290c-90a3-4a2c-bbc4-c469520bb061')\"\n",
              "            title=\"Suggest charts\"\n",
              "            style=\"display:none;\">\n",
              "\n",
              "<svg xmlns=\"http://www.w3.org/2000/svg\" height=\"24px\"viewBox=\"0 0 24 24\"\n",
              "     width=\"24px\">\n",
              "    <g>\n",
              "        <path d=\"M19 3H5c-1.1 0-2 .9-2 2v14c0 1.1.9 2 2 2h14c1.1 0 2-.9 2-2V5c0-1.1-.9-2-2-2zM9 17H7v-7h2v7zm4 0h-2V7h2v10zm4 0h-2v-4h2v4z\"/>\n",
              "    </g>\n",
              "</svg>\n",
              "  </button>\n",
              "\n",
              "<style>\n",
              "  .colab-df-quickchart {\n",
              "      --bg-color: #E8F0FE;\n",
              "      --fill-color: #1967D2;\n",
              "      --hover-bg-color: #E2EBFA;\n",
              "      --hover-fill-color: #174EA6;\n",
              "      --disabled-fill-color: #AAA;\n",
              "      --disabled-bg-color: #DDD;\n",
              "  }\n",
              "\n",
              "  [theme=dark] .colab-df-quickchart {\n",
              "      --bg-color: #3B4455;\n",
              "      --fill-color: #D2E3FC;\n",
              "      --hover-bg-color: #434B5C;\n",
              "      --hover-fill-color: #FFFFFF;\n",
              "      --disabled-bg-color: #3B4455;\n",
              "      --disabled-fill-color: #666;\n",
              "  }\n",
              "\n",
              "  .colab-df-quickchart {\n",
              "    background-color: var(--bg-color);\n",
              "    border: none;\n",
              "    border-radius: 50%;\n",
              "    cursor: pointer;\n",
              "    display: none;\n",
              "    fill: var(--fill-color);\n",
              "    height: 32px;\n",
              "    padding: 0;\n",
              "    width: 32px;\n",
              "  }\n",
              "\n",
              "  .colab-df-quickchart:hover {\n",
              "    background-color: var(--hover-bg-color);\n",
              "    box-shadow: 0 1px 2px rgba(60, 64, 67, 0.3), 0 1px 3px 1px rgba(60, 64, 67, 0.15);\n",
              "    fill: var(--button-hover-fill-color);\n",
              "  }\n",
              "\n",
              "  .colab-df-quickchart-complete:disabled,\n",
              "  .colab-df-quickchart-complete:disabled:hover {\n",
              "    background-color: var(--disabled-bg-color);\n",
              "    fill: var(--disabled-fill-color);\n",
              "    box-shadow: none;\n",
              "  }\n",
              "\n",
              "  .colab-df-spinner {\n",
              "    border: 2px solid var(--fill-color);\n",
              "    border-color: transparent;\n",
              "    border-bottom-color: var(--fill-color);\n",
              "    animation:\n",
              "      spin 1s steps(1) infinite;\n",
              "  }\n",
              "\n",
              "  @keyframes spin {\n",
              "    0% {\n",
              "      border-color: transparent;\n",
              "      border-bottom-color: var(--fill-color);\n",
              "      border-left-color: var(--fill-color);\n",
              "    }\n",
              "    20% {\n",
              "      border-color: transparent;\n",
              "      border-left-color: var(--fill-color);\n",
              "      border-top-color: var(--fill-color);\n",
              "    }\n",
              "    30% {\n",
              "      border-color: transparent;\n",
              "      border-left-color: var(--fill-color);\n",
              "      border-top-color: var(--fill-color);\n",
              "      border-right-color: var(--fill-color);\n",
              "    }\n",
              "    40% {\n",
              "      border-color: transparent;\n",
              "      border-right-color: var(--fill-color);\n",
              "      border-top-color: var(--fill-color);\n",
              "    }\n",
              "    60% {\n",
              "      border-color: transparent;\n",
              "      border-right-color: var(--fill-color);\n",
              "    }\n",
              "    80% {\n",
              "      border-color: transparent;\n",
              "      border-right-color: var(--fill-color);\n",
              "      border-bottom-color: var(--fill-color);\n",
              "    }\n",
              "    90% {\n",
              "      border-color: transparent;\n",
              "      border-bottom-color: var(--fill-color);\n",
              "    }\n",
              "  }\n",
              "</style>\n",
              "\n",
              "  <script>\n",
              "    async function quickchart(key) {\n",
              "      const quickchartButtonEl =\n",
              "        document.querySelector('#' + key + ' button');\n",
              "      quickchartButtonEl.disabled = true;  // To prevent multiple clicks.\n",
              "      quickchartButtonEl.classList.add('colab-df-spinner');\n",
              "      try {\n",
              "        const charts = await google.colab.kernel.invokeFunction(\n",
              "            'suggestCharts', [key], {});\n",
              "      } catch (error) {\n",
              "        console.error('Error during call to suggestCharts:', error);\n",
              "      }\n",
              "      quickchartButtonEl.classList.remove('colab-df-spinner');\n",
              "      quickchartButtonEl.classList.add('colab-df-quickchart-complete');\n",
              "    }\n",
              "    (() => {\n",
              "      let quickchartButtonEl =\n",
              "        document.querySelector('#df-11cb290c-90a3-4a2c-bbc4-c469520bb061 button');\n",
              "      quickchartButtonEl.style.display =\n",
              "        google.colab.kernel.accessAllowed ? 'block' : 'none';\n",
              "    })();\n",
              "  </script>\n",
              "</div>\n",
              "    </div>\n",
              "  </div>\n"
            ],
            "application/vnd.google.colaboratory.intrinsic+json": {
              "type": "dataframe",
              "variable_name": "data"
            }
          },
          "metadata": {},
          "execution_count": 11
        }
      ]
    },
    {
      "cell_type": "code",
      "source": [
        "data.drop(columns=['price'], inplace=True)"
      ],
      "metadata": {
        "id": "awRzgjU-SdTD"
      },
      "execution_count": 12,
      "outputs": []
    },
    {
      "cell_type": "markdown",
      "metadata": {
        "pycharm": {
          "name": "#%% md\n"
        },
        "id": "yRFwRuWb1s4g"
      },
      "source": [
        "Колонки в данных:\n",
        "\n",
        "* `brand` - название бренда автомобиля\n",
        "* `model` - название модели автомобиля\n",
        "* `vehicleType` - тип транспортного средства\n",
        "* `gearbox` - тип трансмисcии\n",
        "* `fuelType` - какой вид топлива использует автомобиль\n",
        "* `notRepairedDamage` - есть ли в автомобиле неисправность, которая еще не устранена\n",
        "* `powerPS` - мощность автомобиля в PS (метрическая лошадиная сила)\n",
        "* `kilometer` - сколько километров проехал автомобиль, пробег\n",
        "* `autoAgeMonths` - возраст автомобиля в месяцах\n",
        "\n",
        "\n",
        "* `price` - цена, указанная в объявлении о продаже автомобиля (целевая переменная)"
      ]
    },
    {
      "cell_type": "code",
      "source": [
        "data.info()"
      ],
      "metadata": {
        "colab": {
          "base_uri": "https://localhost:8080/"
        },
        "id": "rw0aAO8BQaJW",
        "outputId": "e8366572-1fbf-4960-f17b-fdc0361c9f20"
      },
      "execution_count": 13,
      "outputs": [
        {
          "output_type": "stream",
          "name": "stdout",
          "text": [
            "<class 'pandas.core.frame.DataFrame'>\n",
            "RangeIndex: 241190 entries, 0 to 241189\n",
            "Data columns (total 10 columns):\n",
            " #   Column             Non-Null Count   Dtype  \n",
            "---  ------             --------------   -----  \n",
            " 0   brand              241190 non-null  object \n",
            " 1   model              241190 non-null  object \n",
            " 2   vehicleType        241190 non-null  object \n",
            " 3   gearbox            241190 non-null  object \n",
            " 4   fuelType           241190 non-null  object \n",
            " 5   notRepairedDamage  241190 non-null  object \n",
            " 6   powerPS            241190 non-null  int64  \n",
            " 7   kilometer          241190 non-null  int64  \n",
            " 8   autoAgeMonths      241190 non-null  int64  \n",
            " 9   log_price          241190 non-null  float64\n",
            "dtypes: float64(1), int64(3), object(6)\n",
            "memory usage: 18.4+ MB\n"
          ]
        }
      ]
    },
    {
      "cell_type": "code",
      "execution_count": 14,
      "metadata": {
        "pycharm": {
          "name": "#%%\n"
        },
        "id": "MU-R-P3I1s4g"
      },
      "outputs": [],
      "source": [
        "categorical = ['brand', 'model', 'vehicleType', 'gearbox', 'fuelType', 'notRepairedDamage']\n",
        "numeric = ['powerPS', 'kilometer', 'autoAgeMonths']\n",
        "other = []"
      ]
    },
    {
      "cell_type": "code",
      "source": [
        "econom = ['daewoo', 'daihatsu', 'fiat', 'lancia', 'mitsubishi', 'opel', 'renault', 'rover']\n",
        "middle = ['alfa_romeo',  'chevrolet', 'chrysler', 'citroen', 'dacia', 'ford', \\\n",
        "          'honda', 'hyundai',  'kia', 'lada', 'mazda', 'nissan', 'peugeot', 'saab', \\\n",
        "          'seat', 'skoda', 'smart', 'subaru', 'suzuki', 'toyota', 'volkswagen', 'volvo']\n",
        "premium = ['audi', 'bmw', 'jaguar', 'jeep', 'land_rover', 'mercedes_benz', 'mini', 'porsche']\n",
        "\n",
        "data['brand_class'] = np.nan\n",
        "data.loc[data['brand'].isin(econom), 'brand_class']= 'econom'\n",
        "data.loc[data['brand'].isin(middle), 'brand_class']= 'middle'\n",
        "data.loc[data['brand'].isin(premium), 'brand_class']= 'premium'"
      ],
      "metadata": {
        "id": "-VkKN9VLRIVo"
      },
      "execution_count": 15,
      "outputs": []
    },
    {
      "cell_type": "code",
      "source": [
        "data.drop(columns=['brand', 'model'], inplace=True)\n",
        "\n",
        "categorical = ['brand_class', 'vehicleType', 'gearbox', 'fuelType', 'notRepairedDamage']\n",
        "numeric = ['powerPS', 'kilometer', 'autoAgeMonths']\n",
        "other = []"
      ],
      "metadata": {
        "id": "7pXqOyW5Rmfr"
      },
      "execution_count": 16,
      "outputs": []
    },
    {
      "cell_type": "code",
      "execution_count": 17,
      "metadata": {
        "pycharm": {
          "name": "#%%\n"
        },
        "id": "MjFvv_9E1s4g"
      },
      "outputs": [],
      "source": [
        "data['bias'] = 1\n",
        "other += ['bias']\n",
        "\n",
        "x = data[categorical + numeric + other]\n",
        "y = data['log_price']"
      ]
    },
    {
      "cell_type": "code",
      "execution_count": 18,
      "metadata": {
        "pycharm": {
          "name": "#%%\n"
        },
        "id": "9Z9ab_Ya1s4g"
      },
      "outputs": [],
      "source": [
        "from sklearn.compose import ColumnTransformer\n",
        "from sklearn.preprocessing import OneHotEncoder\n",
        "from sklearn.preprocessing import StandardScaler\n",
        "\n",
        "\n",
        "column_transformer = ColumnTransformer([\n",
        "    ('ohe', OneHotEncoder(handle_unknown='ignore'), categorical),\n",
        "    ('scaling', StandardScaler(), numeric),\n",
        "    ('other',  'passthrough', other)\n",
        "])\n",
        "\n",
        "x = column_transformer.fit_transform(x)"
      ]
    },
    {
      "cell_type": "code",
      "execution_count": 19,
      "metadata": {
        "pycharm": {
          "name": "#%%\n"
        },
        "id": "xewvP2kH1s4g"
      },
      "outputs": [],
      "source": [
        "from sklearn.model_selection import train_test_split\n",
        "\n",
        "x_tmp, x_test, y_tmp, y_test = train_test_split(x, y, test_size=0.1, train_size=0.9, random_state=2)\n",
        "x_train, x_val, y_train, y_val = train_test_split(x_tmp, y_tmp, test_size=1/9, train_size=8/9, random_state=2)"
      ]
    },
    {
      "cell_type": "code",
      "source": [
        "y_val = y_val.to_numpy()\n",
        "y_test = y_test.to_numpy()\n",
        "y_train = y_train.to_numpy()"
      ],
      "metadata": {
        "id": "9-qjnfdeRqVM"
      },
      "execution_count": 20,
      "outputs": []
    },
    {
      "cell_type": "markdown",
      "metadata": {
        "pycharm": {
          "name": "#%% md\n"
        },
        "id": "I5QX3e121s4g"
      },
      "source": [
        "## Задание 5. Сравнение методов градиентного спуска (2 балла)\n",
        "\n",
        "В этом задании вам предстоит сравнить методы градиентного спуска на подготовленных вами данных из предыдущего задания."
      ]
    },
    {
      "cell_type": "markdown",
      "metadata": {
        "pycharm": {
          "name": "#%% md\n"
        },
        "id": "Pt8DoW_21s4g"
      },
      "source": [
        "### Задание 5.1. Подбор оптимальной длины шага (1 балл)\n",
        "\n",
        "Подберите по валидационной выборке наилучшую длину шага $\\lambda$ для каждого метода с точки зрения ошибки. Для этого сделайте перебор по логарифмической сетке. Для каждого метода посчитайте ошибку на обучающей и тестовой выборках, посчитайте качество по метрике $R^2$, сохраните количество итераций до сходимости.\n",
        "\n",
        "Все параметры кроме `lambda_` стоит выставить равным значениям по умолчанию."
      ]
    },
    {
      "cell_type": "code",
      "execution_count": 21,
      "metadata": {
        "pycharm": {
          "name": "#%%\n"
        },
        "colab": {
          "base_uri": "https://localhost:8080/"
        },
        "id": "uXQoWNDk1s4g",
        "outputId": "d43e4feb-fdd8-4ee2-9497-d360441f4419"
      },
      "outputs": [
        {
          "output_type": "stream",
          "name": "stdout",
          "text": [
            "Descent_name = full\n",
            "Best lambda = 1.8329807108324339: val_loss = 0.3695039931019016\n",
            "Best model \n",
            " train_loss=0.38861393648264786, test_loss=0.37169233336900764, \n",
            " r2_train=0.6601355978721548, r2_test=0.6593036359692979, iterations=103\n",
            "\n",
            "Descent_name = stochastic\n",
            "Best lambda = 0.615848211066026: val_loss = 0.3766243175948036\n",
            "Best model \n",
            " train_loss=0.39682069163879663, test_loss=0.3797889760730202, \n",
            " r2_train=0.6572982822472422, r2_test=0.6533298253590225, iterations=259\n",
            "\n",
            "Descent_name = momentum\n",
            "Best lambda = 1.062467830894041: val_loss = 0.38238095104355857\n",
            "Best model \n",
            " train_loss=0.40285923476154756, test_loss=0.3859639134771184, \n",
            " r2_train=0.6231655109202608, r2_test=0.6370089480206007, iterations=127\n",
            "\n",
            "Descent_name = adam\n",
            "Best lambda = 3.1622776601683795: val_loss = 0.36628363698139577\n",
            "Best model \n",
            " train_loss=0.3869981297843135, test_loss=0.3703437498098044, \n",
            " r2_train=0.648697469897463, r2_test=0.6432238915527282, iterations=88\n",
            "\n"
          ]
        }
      ],
      "source": [
        "# determing best lambda\n",
        "from sklearn.metrics import r2_score\n",
        "\n",
        "\n",
        "def inverse_pred(y: np.ndarray) -> np.ndarray:\n",
        "    return np.exp(y) - 1\n",
        "\n",
        "lambdas = np.logspace(-4, 0.5, 20)\n",
        "best_lambdas = {}\n",
        "descent_config = {\n",
        "    'descent_name': 'some name that we will replace in the future',\n",
        "    'kwargs': {\n",
        "        'dimension': x.shape[1]\n",
        "    }\n",
        "}\n",
        "np.random.seed(2)\n",
        "\n",
        "for descent_name in ['full', 'stochastic', 'momentum', 'adam']:\n",
        "    print(f'Descent_name = {descent_name}')\n",
        "    descent_config['descent_name'] = descent_name\n",
        "\n",
        "    logging_descent_lambdas = {}\n",
        "    for lambda_ in lambdas:\n",
        "        descent_config['kwargs']['lambda_'] = lambda_\n",
        "\n",
        "        regression = LinearRegression(\n",
        "            descent_config=descent_config\n",
        "        )\n",
        "        regression.fit(x_train, y_train)\n",
        "\n",
        "        val_loss = regression.calc_loss(x_val, y_val)\n",
        "        logging_descent_lambdas.setdefault(descent_name, []).append(\n",
        "            {\n",
        "                'model': regression,\n",
        "                'lambda': lambda_,\n",
        "                'val_loss': val_loss\n",
        "            }\n",
        "        )\n",
        "    best = min(logging_descent_lambdas[descent_name], key=lambda x: x['val_loss'])\n",
        "    best_lambdas[descent_name] = {\n",
        "        'lambda': best['lambda'],\n",
        "        'model': best['model']\n",
        "    }\n",
        "    print(f'Best lambda = {best[\"lambda\"]}: val_loss = {best[\"val_loss\"]}')\n",
        "\n",
        "    model = best['model']\n",
        "\n",
        "    train_loss = model.calc_loss(x_train, y_train)\n",
        "    test_loss = model.calc_loss(x_test, y_test)\n",
        "    r2_train = r2_score(inverse_pred(model.predict(x_train)), inverse_pred(y_train))\n",
        "    r2_test = r2_score(inverse_pred(model.predict(x_test)), inverse_pred(y_test))\n",
        "    iter_num = model.descent.lr.iteration\n",
        "    print(f'Best model \\n train_loss={train_loss}, test_loss={test_loss}, \\n '\n",
        "          f'r2_train={r2_train}, r2_test={r2_test}, iterations={iter_num}')\n",
        "    print()"
      ]
    },
    {
      "cell_type": "markdown",
      "metadata": {
        "pycharm": {
          "name": "#%% md\n"
        },
        "id": "FOGAf_Z71s4h"
      },
      "source": [
        "### Задание 5.2. Сравнение методов (1 балла)\n",
        "\n",
        "Постройте график зависимости ошибки на обучающей выборке от номера итерации (все методы на одном графике).\n",
        "\n",
        "Посмотрите на получившиеся результаты (таблички с метриками и график). Сравните методы между собой."
      ]
    },
    {
      "cell_type": "code",
      "execution_count": 22,
      "metadata": {
        "pycharm": {
          "name": "#%%\n"
        },
        "id": "tyUugQXH1s4h"
      },
      "outputs": [],
      "source": [
        "plot_loss_data = {\n",
        "    'descent': [],\n",
        "    'loss': [],\n",
        "    'iteration': []\n",
        "}\n",
        "\n",
        "for descent_name in ['full', 'stochastic', 'momentum', 'adam']:\n",
        "    model = best_lambdas[descent_name]['model']\n",
        "    loss_history = model.loss_history\n",
        "    iterations_number = model.descent.lr.iteration + 1\n",
        "\n",
        "    plot_loss_data['descent'] += [descent_name] * iterations_number\n",
        "    plot_loss_data['loss'] += loss_history\n",
        "    plot_loss_data['iteration'] += range(iterations_number)"
      ]
    },
    {
      "cell_type": "code",
      "source": [
        "plot_loss_df = pd.DataFrame(data=plot_loss_data)\n",
        "plot_loss_df['log_loss'] = np.log1p(plot_loss_df['loss'])\n",
        "\n",
        "sns.lineplot(data=plot_loss_df, x='iteration', y='log_loss', hue='descent')\n",
        "plt.title(\"Log_loss dependence on GD iteration\")\n",
        "plt.show()"
      ],
      "metadata": {
        "colab": {
          "base_uri": "https://localhost:8080/",
          "height": 480
        },
        "id": "0UL62BNpSQAP",
        "outputId": "e4a1fe21-cbd8-4382-bd07-bbaad50e7d51"
      },
      "execution_count": 23,
      "outputs": [
        {
          "output_type": "display_data",
          "data": {
            "text/plain": [
              "<Figure size 640x480 with 1 Axes>"
            ],
            "image/png": "[encoded data removed]"
          },
          "metadata": {}
        }
      ]
    },
    {
      "cell_type": "markdown",
      "metadata": {
        "pycharm": {
          "name": "#%% md\n"
        },
        "id": "mUQlIBuk1s4h"
      },
      "source": [
        "`### ваше решение тут ###`"
      ]
    },
    {
      "cell_type": "markdown",
      "metadata": {
        "pycharm": {
          "name": "#%% md\n"
        },
        "id": "bouq8Dih1s4m"
      },
      "source": [
        "## Задание 6. Стохастический градиентный спуск и размер батча (1 балл)\n",
        "\n",
        "В этом задании вам предстоит исследовать влияние размера батча на работу стохастического градиентного спуска.\n",
        "\n",
        "* Сделайте по несколько запусков (например, k = 10) стохастического градиентного спуска на обучающей выборке для каждого размера батча из перебираемого списка. Замерьте время в секундах и количество итераций до сходимости. Посчитайте среднее этих значений для каждого размера батча.\n",
        "* Постройте график зависимости количества шагов до сходимости от размера батча.\n",
        "* Постройте график зависимости времени до сходимости от размера батча.\n",
        "\n",
        "Посмотрите на получившиеся результаты. Какие выводы можно сделать про подбор размера батча для стохастического градиентного спуска?"
      ]
    },
    {
      "cell_type": "code",
      "execution_count": 24,
      "metadata": {
        "pycharm": {
          "name": "#%%\n"
        },
        "id": "SFPKeDGx1s4m"
      },
      "outputs": [],
      "source": [
        "from time import time\n",
        "\n",
        "batch_sizes = np.arange(5, 500, 10)\n",
        "k = 10\n",
        "\n",
        "descent_config = {\n",
        "    'descent_name': 'stochastic',\n",
        "    'kwargs': {\n",
        "        'dimension': x.shape[1],\n",
        "        'lambda_': best_lambdas['stochastic']['lambda']\n",
        "    }\n",
        "}\n",
        "\n",
        "logging_batches = {}\n",
        "\n",
        "for batch_size in batch_sizes:\n",
        "    descent_config['kwargs']['batch_size'] = batch_size\n",
        "    for _ in range(k):\n",
        "        timestamp = time()\n",
        "\n",
        "        regression = LinearRegression(\n",
        "            descent_config=descent_config\n",
        "        )\n",
        "        regression.fit(x_train, y_train)\n",
        "\n",
        "        time_diff = time() - timestamp\n",
        "        logging_batches.setdefault(batch_size, {'time': [], 'iterations': []})['time'].append(time_diff)\n",
        "        logging_batches[batch_size]['iterations'].append(regression.descent.lr.iteration)"
      ]
    },
    {
      "cell_type": "code",
      "source": [
        "d = list(map(lambda x: [x[0],\n",
        "                        sum(x[1]['time']) / k,\n",
        "                        round(sum(x[1]['iterations']) / k)],\n",
        "             logging_batches.items()))\n",
        "batch_df = pd.DataFrame(data=d, columns=['batch_size', 'time', 'iterations'])"
      ],
      "metadata": {
        "id": "t86VK-AMUNds"
      },
      "execution_count": 25,
      "outputs": []
    },
    {
      "cell_type": "code",
      "source": [
        "sns.scatterplot(data=batch_df, x='batch_size', y='iterations')\n",
        "\n",
        "plt.title('Batch_size dependece on iteration number')\n",
        "plt.show()"
      ],
      "metadata": {
        "colab": {
          "base_uri": "https://localhost:8080/",
          "height": 480
        },
        "id": "B7DKY56NUONu",
        "outputId": "d46156c8-6759-41f7-aa6f-b64e41fa2bb5"
      },
      "execution_count": 26,
      "outputs": [
        {
          "output_type": "display_data",
          "data": {
            "text/plain": [
              "<Figure size 640x480 with 1 Axes>"
            ],
            "image/png": "[encoded data removed]"
          },
          "metadata": {}
        }
      ]
    },
    {
      "cell_type": "markdown",
      "metadata": {
        "pycharm": {
          "name": "#%% md\n"
        },
        "id": "Q2JAWFkx1s4m"
      },
      "source": [
        "`### ваше решение тут ###`"
      ]
    },
    {
      "cell_type": "markdown",
      "metadata": {
        "pycharm": {
          "name": "#%% md\n"
        },
        "id": "V_39qjnE1s4n"
      },
      "source": [
        "## Задание 7. Регуляризация (1 балл)\n",
        "\n",
        "В этом задании вам предстоит исследовать влияние регуляризации на работу различных методов градиентного спуска. Напомним, регуляризация - это добавка к функции потерь, которая штрафует за норму весов. Мы будем использовать l2 регуляризацию, таким образом функция потерь приобретает следующий вид:\n",
        "\n",
        "$$\n",
        "    Q(w) = \\dfrac{1}{\\ell} \\sum\\limits_{i=1}^{\\ell} (a_w(x_i) - y_i)^2 + \\dfrac{\\mu}{2} \\| w \\|^2\n",
        "$$"
      ]
    },
    {
      "cell_type": "markdown",
      "metadata": {
        "pycharm": {
          "name": "#%% md\n"
        },
        "id": "JnHyTtld1s4n"
      },
      "source": [
        "Допишите класс **BaseDescentReg** в файле `descents.py`.\n",
        "\n",
        "Протестируйте ваше решение в контесте.\n",
        "\n",
        "Вставьте ссылку на успешную посылку:\n",
        "\n",
        "* **BaseDescentReg**:"
      ]
    },
    {
      "cell_type": "markdown",
      "metadata": {
        "pycharm": {
          "name": "#%% md\n"
        },
        "id": "n7e_5RFb1s4n"
      },
      "source": [
        "Найдите лучшие параметры обучения с регуляризацией аналогично 5 заданию. Будем подбирать длину шага $\\lambda$ (`lambda_`) и коэффициент регуляризации $\\mu$ (`mu`).\n",
        "\n",
        "Сравните для каждого метода результаты с регуляризацией и без регуляризации (нужно опять сохранить ошибку и качество по метрике $R^2$ на обучающей и тестовой выборках и количество итераций до сходимости).\n",
        "\n",
        "Постройте для каждого метода график со значениями функции потерь MSE с регуляризацией и без регуляризации (всего должно получиться 4 графика).\n",
        "\n",
        "Посмотрите на получившиеся результаты. Какие можно сделать выводы, как регуляризация влияет на сходимость? Как изменилось качество на обучающей выборке? На тестовой? Чем вы можете объяснить это?"
      ]
    },
    {
      "cell_type": "code",
      "execution_count": 27,
      "metadata": {
        "pycharm": {
          "name": "#%%\n"
        },
        "colab": {
          "base_uri": "https://localhost:8080/"
        },
        "id": "CQx5sDB91s4n",
        "outputId": "63f294a2-64f2-454b-bf00-44fb4d3b2ada"
      },
      "outputs": [
        {
          "output_type": "stream",
          "name": "stdout",
          "text": [
            "Descent_name = full\n",
            "Best lambda = 1.5058363542798414 & Best mu = 1e-06: val_loss = 0.3696459216712604\n",
            "Best model \n",
            " train_loss=0.3887903268508692, test_loss=0.3718808978457086, \n",
            " r2_train=0.6594988075515846, r2_test=0.6584400756626869, iterations=70\n",
            "\n",
            "Descent_name = stochastic\n",
            "Best lambda = 0.35938136638046275 & Best mu = 1e-06: val_loss = 0.3988068737156882\n",
            "Best model \n",
            " train_loss=0.42191629808226855, test_loss=0.40411272792679387, \n",
            " r2_train=0.6175708201124848, r2_test=0.5991783954124337, iterations=70\n",
            "\n",
            "Descent_name = momentum\n",
            "Best lambda = 1.5058363542798414 & Best mu = 1e-06: val_loss = 0.4060106390320267\n",
            "Best model \n",
            " train_loss=0.42438629997797717, test_loss=0.408706342989029, \n",
            " r2_train=0.6561719109579431, r2_test=0.6477315520228228, iterations=210\n",
            "\n",
            "Descent_name = adam\n",
            "Best lambda = 3.0823992397451434 & Best mu = 1e-06: val_loss = 0.3660437947081917\n",
            "Best model \n",
            " train_loss=0.3866930087344367, test_loss=0.370050200470547, \n",
            " r2_train=0.6499812807260106, r2_test=0.6448417450459485, iterations=88\n",
            "\n"
          ]
        }
      ],
      "source": [
        "# determing best lambda\n",
        "from sklearn.metrics import r2_score\n",
        "\n",
        "\n",
        "def inverse_pred(y: np.ndarray) -> np.ndarray:\n",
        "    return np.exp(y) - 1\n",
        "\n",
        "lambdas = np.logspace(-2, 0.8, 10)\n",
        "mus = np.logspace(-6, 0.5, 10)\n",
        "best_parameters = {}\n",
        "descent_config = {\n",
        "    'descent_name': 'some name that we will replace in the future',\n",
        "    'regularized': True,\n",
        "    'kwargs': {\n",
        "        'dimension': x.shape[1]\n",
        "    }\n",
        "}\n",
        "np.random.seed(2)\n",
        "\n",
        "for descent_name in ['full', 'stochastic', 'momentum', 'adam']:\n",
        "    print(f'Descent_name = {descent_name}')\n",
        "    descent_config['descent_name'] = descent_name\n",
        "\n",
        "    logging_descent_lambdas = {}\n",
        "    for lambda_ in lambdas:\n",
        "        descent_config['kwargs']['lambda_'] = lambda_\n",
        "        for mu_ in mus:\n",
        "            descent_config['kwargs']['mu'] = mu_\n",
        "\n",
        "            regression = LinearRegression(\n",
        "                descent_config=descent_config\n",
        "            )\n",
        "            regression.fit(x_train, y_train)\n",
        "\n",
        "            val_loss = regression.calc_loss(x_val, y_val)\n",
        "            logging_descent_lambdas.setdefault(descent_name, []).append(\n",
        "                {\n",
        "                    'model': regression,\n",
        "                    'mu': mu_,\n",
        "                    'lambda': lambda_,\n",
        "                    'val_loss': val_loss\n",
        "                }\n",
        "            )\n",
        "    best = min(logging_descent_lambdas[descent_name], key=lambda x: x['val_loss'])\n",
        "    best_parameters[descent_name] = {\n",
        "        'lambda': best['lambda'],\n",
        "        'mu': best['mu'],\n",
        "        'model': best['model']\n",
        "    }\n",
        "    print(f'Best lambda = {best[\"lambda\"]} & Best mu = {best[\"mu\"]}: val_loss = {best[\"val_loss\"]}')\n",
        "\n",
        "    model = best['model']\n",
        "\n",
        "    train_loss = model.calc_loss(x_train, y_train)\n",
        "    test_loss = model.calc_loss(x_test, y_test)\n",
        "    r2_train = r2_score(inverse_pred(model.predict(x_train)), inverse_pred(y_train))\n",
        "    r2_test = r2_score(inverse_pred(model.predict(x_test)), inverse_pred(y_test))\n",
        "    iter_num = model.descent.lr.iteration\n",
        "    print(f'Best model \\n train_loss={train_loss}, test_loss={test_loss}, \\n '\n",
        "          f'r2_train={r2_train}, r2_test={r2_test}, iterations={iter_num}')\n",
        "    print()"
      ]
    },
    {
      "cell_type": "markdown",
      "metadata": {
        "pycharm": {
          "name": "#%% md\n"
        },
        "id": "YBg3riyi1s4n"
      },
      "source": [
        "`### ваше решение тут ###`"
      ]
    },
    {
      "cell_type": "markdown",
      "metadata": {
        "pycharm": {
          "name": "#%% md\n"
        },
        "id": "vF5c1kYc1s4o"
      },
      "source": [
        "## Задание 8. Альтернативная функция потерь (1 балл)\n",
        "\n",
        "В этом задании вам предстоит использовать другую функцию потерь для нашей задачи регрессии. В качестве функции потерь мы выбрали **Log-Cosh**:\n",
        "\n",
        "$$\n",
        "    L(y, a)\n",
        "    =\n",
        "    \\log\\left(\\cosh(a - y)\\right).\n",
        "$$"
      ]
    },
    {
      "cell_type": "markdown",
      "metadata": {
        "pycharm": {
          "name": "#%% md\n"
        },
        "id": "h-1YE8Pn1s4o"
      },
      "source": [
        "Самостоятельно продифференцируйте данную функцию потерь чтобы найти её градиент:\n",
        "\n",
        "`### ваше решение тут ###`"
      ]
    },
    {
      "cell_type": "markdown",
      "metadata": {
        "pycharm": {
          "name": "#%% md\n"
        },
        "id": "GixnR9MO1s4o"
      },
      "source": [
        "Программно реализуйте градиентный спуск с данной функцией потерь в файле `descents.py`, обучите все четыре метода (без регуляризации) аналогично 5 заданию, сравните их качество с четырьмя методами из 5 задания.\n",
        "\n",
        "Пример того, как можно запрограммировать использование нескольких функций потерь внутри одного класса градиентного спуска:\n",
        "\n",
        "\n",
        "```python\n",
        "from enum import auto\n",
        "from enum import Enum\n",
        "\n",
        "import numpy as np\n",
        "\n",
        "class LossFunction(Enum):\n",
        "    MSE = auto()\n",
        "    MAE = auto()\n",
        "    LogCosh = auto()\n",
        "    Huber = auto()\n",
        "\n",
        "...\n",
        "class BaseDescent:\n",
        "    def __init__(self, loss_function: LossFunction = LossFunction.MSE):\n",
        "        self.loss_function: LossFunction = loss_function\n",
        "\n",
        "    def calc_gradient(self, x: np.ndarray, y: np.ndarray) -> np.ndarray:\n",
        "        if self.loss_function is LossFunction.MSE:\n",
        "            return ...\n",
        "        elif self.loss_function is LossFunction.LogCosh:\n",
        "            return ...\n",
        "...\n",
        "\n",
        "```"
      ]
    },
    {
      "cell_type": "code",
      "execution_count": 28,
      "metadata": {
        "pycharm": {
          "name": "#%%\n"
        },
        "colab": {
          "base_uri": "https://localhost:8080/"
        },
        "id": "53tAdK7t1s4o",
        "outputId": "edea0e4a-4c09-4efe-d5c7-d4c96eca033a"
      },
      "outputs": [
        {
          "output_type": "stream",
          "name": "stdout",
          "text": [
            "Descent_name = full\n",
            "Best lambda = 1.8329807108324339: val_loss = 0.3695039931019016\n",
            "Best model \n",
            " train_loss=0.38861393648264786, test_loss=0.37169233336900764, \n",
            " r2_train=0.6601355978721548, r2_test=0.6593036359692979, iterations=103\n",
            "\n",
            "Descent_name = stochastic\n",
            "Best lambda = 0.615848211066026: val_loss = 0.3766243175948036\n",
            "Best model \n",
            " train_loss=0.39682069163879663, test_loss=0.3797889760730202, \n",
            " r2_train=0.6572982822472422, r2_test=0.6533298253590225, iterations=259\n",
            "\n",
            "Descent_name = momentum\n",
            "Best lambda = 1.062467830894041: val_loss = 0.38238095104355857\n",
            "Best model \n",
            " train_loss=0.40285923476154756, test_loss=0.3859639134771184, \n",
            " r2_train=0.6231655109202608, r2_test=0.6370089480206007, iterations=127\n",
            "\n",
            "Descent_name = adam\n",
            "Best lambda = 3.1622776601683795: val_loss = 0.36628363698139577\n",
            "Best model \n",
            " train_loss=0.3869981297843135, test_loss=0.3703437498098044, \n",
            " r2_train=0.648697469897463, r2_test=0.6432238915527282, iterations=88\n",
            "\n"
          ]
        }
      ],
      "source": [
        "from descents import LossFunction\n",
        "\n",
        "lambdas = np.logspace(-4, 0.5, 20)\n",
        "best_log_loss = {}\n",
        "descent_config = {\n",
        "    'descent_name': 'some name that we will replace in the future',\n",
        "    'kwargs': {\n",
        "        'dimension': x.shape[1],\n",
        "        'loss_function': LossFunction.LogCosh\n",
        "    }\n",
        "}\n",
        "np.random.seed(2)\n",
        "\n",
        "for descent_name in ['full', 'stochastic', 'momentum', 'adam']:\n",
        "    print(f'Descent_name = {descent_name}')\n",
        "    descent_config['descent_name'] = descent_name\n",
        "\n",
        "    logging_descent_lambdas = {}\n",
        "    for lambda_ in lambdas:\n",
        "        descent_config['kwargs']['lambda_'] = lambda_\n",
        "\n",
        "        regression = LinearRegression(\n",
        "            descent_config=descent_config\n",
        "        )\n",
        "        regression.fit(x_train, y_train)\n",
        "\n",
        "        val_loss = regression.calc_loss(x_val, y_val)\n",
        "        logging_descent_lambdas.setdefault(descent_name, []).append(\n",
        "            {\n",
        "                'model': regression,\n",
        "                'lambda': lambda_,\n",
        "                'val_loss': val_loss\n",
        "            }\n",
        "        )\n",
        "    best = min(logging_descent_lambdas[descent_name], key=lambda x: x['val_loss'])\n",
        "    best_log_loss[descent_name] = {\n",
        "        'lambda': best['lambda'],\n",
        "        'model': best['model']\n",
        "    }\n",
        "    print(f'Best lambda = {best[\"lambda\"]}: val_loss = {best[\"val_loss\"]}')\n",
        "\n",
        "    model = best['model']\n",
        "\n",
        "    train_loss = model.calc_loss(x_train, y_train)\n",
        "    test_loss = model.calc_loss(x_test, y_test)\n",
        "    r2_train = r2_score(inverse_pred(model.predict(x_train)), inverse_pred(y_train))\n",
        "    r2_test = r2_score(inverse_pred(model.predict(x_test)), inverse_pred(y_test))\n",
        "    iter_num = model.descent.lr.iteration\n",
        "    print(f'Best model \\n train_loss={train_loss}, test_loss={test_loss}, \\n '\n",
        "          f'r2_train={r2_train}, r2_test={r2_test}, iterations={iter_num}')\n",
        "    print()"
      ]
    },
    {
      "cell_type": "markdown",
      "metadata": {
        "pycharm": {
          "name": "#%% md\n"
        },
        "id": "hzY0Jy2_1s4o"
      },
      "source": [
        "### Кулинарно-социализационный бонус. (0.5 балла).\n",
        "\n",
        "Как мы знаем, осень прекрасная пора, время пробовать новое и делиться теплом с друзьями и близкими. Выберите рецепт, который соответствует вашему настроению, приготовьте выбранное блюдо и угостите хотя бы одного человека им. Кратко опишите ваши впечатления, прикрепите рецепт и фотографии блюда и довольного гостя."
      ]
    },
    {
      "cell_type": "markdown",
      "metadata": {
        "pycharm": {
          "name": "#%% md\n"
        },
        "id": "U9RSDUq11s4o"
      },
      "source": [
        "1. вареники с творогом из вкусвилла\n",
        "2. кипящая вода (подсоленная)\n",
        "3. сливочное масло\n",
        "4. сметана\n",
        "\n",
        "\n",
        "1. сварить вареники\n",
        "2. добавить масло по вкусу\n",
        "3. добавить сметану по вкусу\n",
        "4. ужин готов\n"
      ]
    },
    {
      "cell_type": "markdown",
      "metadata": {
        "pycharm": {
          "name": "#%% md\n"
        },
        "id": "OEZQyWeA1s4p"
      },
      "source": [
        "### Бонус 1. Другие методы градиентного спуска (1 балл).\n",
        "\n",
        "По желанию выберите метод градиентного спуска из следующего списка и самостоятельно реализуйте его в файле `descents.py`. Обучите линейную регрессию с помощью этого метода, сравните с методами из основной части домашнего задания.\n",
        "\n",
        "`AdaMax` (вариация Adam основанная на $l_{\\infty}$), `Nadam` (вариация Adam совмещенная с методом импульса Нестерова), `AMSGrad` (ещё одна вариация Adam)."
      ]
    },
    {
      "cell_type": "code",
      "execution_count": 31,
      "metadata": {
        "pycharm": {
          "name": "#%%\n"
        },
        "id": "KZJWJXuK1s4p"
      },
      "outputs": [],
      "source": []
    },
    {
      "cell_type": "markdown",
      "metadata": {
        "pycharm": {
          "name": "#%% md\n"
        },
        "id": "raHZfDkw1s4p"
      },
      "source": [
        "### Бонус 2. Другие функции потерь (1 балл).\n",
        "\n",
        "Аналогично 8 заданию реализуйте две функции потерь - **MAE** и **Huber**."
      ]
    },
    {
      "cell_type": "markdown",
      "metadata": {
        "pycharm": {
          "name": "#%% md\n"
        },
        "id": "XR3Y765q1s4p"
      },
      "source": [
        "Самостоятельно продифференцируйте данные функции потерь, чтобы найти их градиенты:\n",
        "\n",
        "`### ваше решение тут ###`"
      ]
    },
    {
      "cell_type": "markdown",
      "metadata": {
        "pycharm": {
          "name": "#%% md\n"
        },
        "id": "tHg9MNk91s4p"
      },
      "source": [
        "Программно реализуйте градиентный спуск с данными функциями потерь в файле `descents.py`, обучите все четыре метода (без регуляризации) аналогично 5 заданию, сравните их качество с четырьмя методами из 5 задания.\n",
        "\n",
        "Сравните между собой *для каждого метода отдельно* качество для разных функций потерь. Какая оказалась лучше? Как вы думаете почему?"
      ]
    },
    {
      "cell_type": "code",
      "execution_count": 31,
      "metadata": {
        "pycharm": {
          "name": "#%%\n"
        },
        "id": "FRAH3gA71s4q"
      },
      "outputs": [],
      "source": []
    }
  ],
  "metadata": {
    "kernelspec": {
      "display_name": "Python 3",
      "name": "python3"
    },
    "language_info": {
      "codemirror_mode": {
        "name": "ipython",
        "version": 3
      },
      "file_extension": ".py",
      "mimetype": "text/x-python",
      "name": "python",
      "nbconvert_exporter": "python",
      "pygments_lexer": "ipython3",
      "version": "3.6.5"
    },
    "colab": {
      "provenance": [],
      "gpuType": "T4"
    },
    "accelerator": "GPU"
  },
  "nbformat": 4,
  "nbformat_minor": 0
}